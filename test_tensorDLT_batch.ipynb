{
 "cells": [
  {
   "cell_type": "code",
   "execution_count": 5,
   "metadata": {},
   "outputs": [],
   "source": [
    "%load_ext autoreload\n",
    "%autoreload 2"
   ]
  },
  {
   "cell_type": "code",
   "execution_count": 11,
   "metadata": {},
   "outputs": [],
   "source": [
    "import tensorflow as tf\n",
    "from pathlib import Path\n",
    "from data_generator import DataGenerator\n",
    "\n",
    "# training set data generator\n",
    "root = \"/home/ji/Dropbox/Robotics/CMSC733/Project1\"\n",
    "train_path = Path(root) / \"Phase2\" / \"Data\" / \"Train\"\n",
    "train_gen = DataGenerator(train_path, mode=\"supervised\")\n",
    "\n",
    "im_shape = (train_gen.crop_size,train_gen.crop_size,3)\n",
    "output_signature = ((tf.TensorSpec(shape=im_shape,dtype=tf.float32),\n",
    "                     tf.TensorSpec(shape=im_shape,dtype=tf.float32)),\n",
    "                     tf.TensorSpec(shape = (8,),dtype=tf.float32),\n",
    "                    )\n",
    "train_ds = tf.data.Dataset.from_generator(train_gen,\n",
    "                                          output_signature=output_signature)\n",
    "batch_size=4\n",
    "def config_ds(ds):\n",
    "    AUTOTUNE = tf.data.AUTOTUNE\n",
    "    ds = ds.prefetch(buffer_size=AUTOTUNE)\n",
    "    ds = ds.batch(batch_size)\n",
    "    return ds\n",
    "\n",
    "train_ds = config_ds(train_ds)\n"
   ]
  },
  {
   "cell_type": "code",
   "execution_count": 7,
   "metadata": {},
   "outputs": [
    {
     "name": "stdout",
     "output_type": "stream",
     "text": [
      "(4, 8)\n"
     ]
    }
   ],
   "source": [
    "im, h4pt = next(iter(train_ds))\n",
    "print(h4pt.shape)"
   ]
  },
  {
   "cell_type": "code",
   "execution_count": 13,
   "metadata": {},
   "outputs": [
    {
     "name": "stdout",
     "output_type": "stream",
     "text": [
      "expected:\n",
      " [[ 8.80025174e-01 -1.65418266e-01  9.34944038e+00]\n",
      " [-4.74087636e-02  8.17801172e-01  1.11410594e+00]\n",
      " [-3.73297351e-04 -1.12724292e-03  1.00000000e+00]]\n",
      "calculated:\n",
      " [[ 8.8054174e-01 -1.6527827e-01  9.3537006e+00]\n",
      " [-4.7506925e-02  8.1839269e-01  1.1188340e+00]\n",
      " [-3.7069994e-04 -1.1241868e-03  1.0000000e+00]]\n",
      "relative diff: 6.72e-04\n",
      "[0. 0.] [-0.  0.]\n",
      "[  0. 127.] [  0. 127.]\n",
      "[127. 127.] [127. 127.]\n",
      "[127.   0.] [127.  -0.]\n",
      "expected:\n",
      " [[ 1.08451406e+00  9.43055705e-03  7.50672342e+00]\n",
      " [ 2.32849320e-01  1.22013043e+00 -9.35122868e+00]\n",
      " [ 1.05805852e-03  8.98980070e-04  1.00000000e+00]]\n",
      "calculated:\n",
      " [[ 1.0852076e+00  9.7182235e-03  7.5068097e+00]\n",
      " [ 2.3304759e-01  1.2210670e+00 -9.3439655e+00]\n",
      " [ 1.0616847e-03  9.0500421e-04  1.0000000e+00]]\n",
      "relative diff: 6.06e-04\n",
      "[0. 0.] [-0.  0.]\n",
      "[  0. 127.] [  0. 127.]\n",
      "[127. 127.] [127. 127.]\n",
      "[127.   0.] [127.   0.]\n",
      "expected:\n",
      " [[ 1.67121648e+00  1.75079822e-01 -2.61983079e+01]\n",
      " [ 3.59984230e-01  1.51993342e+00 -2.93587139e+01]\n",
      " [ 3.76870118e-03  1.76985143e-03  1.00000000e+00]]\n",
      "calculated:\n",
      " [[ 1.6710463e+00  1.7602195e-01 -2.6188551e+01]\n",
      " [ 3.6099443e-01  1.5195423e+00 -2.9361591e+01]\n",
      " [ 3.7711251e-03  1.7712639e-03  1.0000000e+00]]\n",
      "relative diff: 2.61e-04\n",
      "[0. 0.] [0. 0.]\n",
      "[  0. 127.] [  0. 127.]\n",
      "[127. 127.] [127. 127.]\n",
      "[127.   0.] [127.   0.]\n",
      "expected:\n",
      " [[ 9.13109818e-01 -8.90838847e-02  1.33403117e+01]\n",
      " [-3.64108786e-02  9.52751325e-01  3.26484212e+00]\n",
      " [ 8.86675417e-04 -6.55772798e-04  1.00000000e+00]]\n",
      "calculated:\n",
      " [[ 9.1146129e-01 -8.9053236e-02  1.3343935e+01]\n",
      " [-3.6835454e-02  9.5173430e-01  3.2721136e+00]\n",
      " [ 8.7701512e-04 -6.5935636e-04  1.0000000e+00]]\n",
      "relative diff: 6.05e-04\n",
      "[0. 0.] [0. 0.]\n",
      "[  0. 127.] [  0. 127.]\n",
      "[127. 127.] [127. 127.]\n",
      "[127.   0.] [127.  -0.]\n"
     ]
    }
   ],
   "source": [
    "from tensor_dlt import TensorDLT\n",
    "out = TensorDLT(h4pt,batch_size=batch_size,debug=True)"
   ]
  }
 ],
 "metadata": {
  "kernelspec": {
   "display_name": "tf",
   "language": "python",
   "name": "python3"
  },
  "language_info": {
   "codemirror_mode": {
    "name": "ipython",
    "version": 3
   },
   "file_extension": ".py",
   "mimetype": "text/x-python",
   "name": "python",
   "nbconvert_exporter": "python",
   "pygments_lexer": "ipython3",
   "version": "3.11.7"
  }
 },
 "nbformat": 4,
 "nbformat_minor": 2
}
