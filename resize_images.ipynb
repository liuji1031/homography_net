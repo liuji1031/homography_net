{
 "cells": [
  {
   "cell_type": "code",
   "execution_count": 3,
   "metadata": {},
   "outputs": [],
   "source": [
    "from PIL import Image\n",
    "from pathlib import Path\n",
    "\n",
    "path = \"/home/ji/Dropbox/Robotics/CMSC733/Project1/Phase2/Data/Val\"\n",
    "path = Path(path)\n",
    "\n",
    "save_path = \"/home/ji/Dropbox/Robotics/CMSC733/Project1/Phase2/Data/Val_Resize\"\n",
    "save_path = Path(save_path)\n",
    "\n",
    "im_list = list(path.glob(\"*.jpg\"))\n",
    "\n",
    "for p in im_list:\n",
    "    p : Path\n",
    "    name = p.name\n",
    "    # read image\n",
    "    im = Image.open(p)\n",
    "    im = im.resize((320,240)) # resize\n",
    "    im.save(fp=save_path/name)\n"
   ]
  }
 ],
 "metadata": {
  "kernelspec": {
   "display_name": "tf",
   "language": "python",
   "name": "python3"
  },
  "language_info": {
   "codemirror_mode": {
    "name": "ipython",
    "version": 3
   },
   "file_extension": ".py",
   "mimetype": "text/x-python",
   "name": "python",
   "nbconvert_exporter": "python",
   "pygments_lexer": "ipython3",
   "version": "3.11.7"
  }
 },
 "nbformat": 4,
 "nbformat_minor": 2
}
